{
 "cells": [
  {
   "cell_type": "code",
   "execution_count": 0,
   "metadata": {
    "application/vnd.databricks.v1+cell": {
     "cellMetadata": {
      "byteLimit": 2048000,
      "rowLimit": 10000
     },
     "inputWidgets": {},
     "nuid": "ff22cf0c-d67b-4259-955a-38a33c7ded08",
     "showTitle": false,
     "tableResultSettingsMap": {},
     "title": ""
    }
   },
   "outputs": [],
   "source": [
    "%fs\n",
    "ls '/Volumes/workspace/default/ifood-files/files_csv/'"
   ]
  },
  {
   "cell_type": "code",
   "execution_count": 0,
   "metadata": {
    "application/vnd.databricks.v1+cell": {
     "cellMetadata": {
      "byteLimit": 2048000,
      "rowLimit": 10000
     },
     "inputWidgets": {},
     "nuid": "a042c27e-af05-403f-99f8-f4e5780dcfbe",
     "showTitle": false,
     "tableResultSettingsMap": {},
     "title": ""
    }
   },
   "outputs": [],
   "source": [
    "# COMMAND ----------\n",
    "\n",
    "# Lista de nomes dos arquivos CSV (sem extensão)\n",
    "# Lista de arquivos a processar\n",
    "file_names = [\n",
    "    \"channels\",\n",
    "    \"deliveries\",\n",
    "    \"drivers\",\n",
    "    \"hubs\",\n",
    "    \"orders\",\n",
    "    \"payments\",\n",
    "    \"stores\"\n",
    "]\n",
    "\n",
    "# Caminho de origem dos arquivos CSV\n",
    "csv_base_path = \"/Volumes/workspace/default/ifood-files/files_csv/\"\n",
    "\n",
    "# Caminho de destino (Bronze - Delta)\n",
    "bronze_base_path = \"/Volumes/workspace/default/ifood-files/bronze/\"\n",
    "\n",
    "# Loop para leitura e gravação em Delta\n",
    "for name in file_names:\n",
    "    csv_path = f\"{csv_base_path}{name}.csv\"\n",
    "    bronze_path = f\"{bronze_base_path}{name}\"\n",
    "    \n",
    "    df = spark.read.option(\"header\", True).option(\"inferSchema\", True).csv(csv_path)\n",
    "    \n",
    "    print(f\"✔️ Lido: {csv_path}\")\n",
    "    print(f\"📦 Gravando em: {bronze_path}\")\n",
    "    \n",
    "    df.write.format(\"delta\").mode(\"overwrite\").save(bronze_path)\n",
    "\n",
    "# Verificar gravação de exemplo\n",
    "df_check = spark.read.format(\"delta\").load(f\"{bronze_base_path}orders\")\n",
    "display(df_check.limit(5))\n"
   ]
  },
  {
   "cell_type": "code",
   "execution_count": 0,
   "metadata": {
    "application/vnd.databricks.v1+cell": {
     "cellMetadata": {
      "byteLimit": 2048000,
      "rowLimit": 10000
     },
     "inputWidgets": {},
     "nuid": "1b4e456d-b229-404e-967c-48672f6d212a",
     "showTitle": false,
     "tableResultSettingsMap": {},
     "title": ""
    }
   },
   "outputs": [],
   "source": [
    "display(dbutils.fs.ls(\"/Volumes/workspace/default/ifood-files/bronze/orders\"))"
   ]
  }
 ],
 "metadata": {
  "application/vnd.databricks.v1+notebook": {
   "computePreferences": null,
   "dashboards": [],
   "environmentMetadata": {
    "base_environment": "",
    "environment_version": "2"
   },
   "inputWidgetPreferences": null,
   "language": "python",
   "notebookMetadata": {
    "mostRecentlyExecutedCommandWithImplicitDF": {
     "commandId": 7723007173444135,
     "dataframes": [
      "_sqldf"
     ]
    },
    "pythonIndentUnit": 4
   },
   "notebookName": "01.Extract_bronze",
   "widgets": {}
  },
  "language_info": {
   "name": "python"
  }
 },
 "nbformat": 4,
 "nbformat_minor": 0
}
