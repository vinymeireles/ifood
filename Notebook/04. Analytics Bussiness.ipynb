{
 "cells": [
  {
   "cell_type": "code",
   "execution_count": 0,
   "metadata": {
    "application/vnd.databricks.v1+cell": {
     "cellMetadata": {
      "byteLimit": 2048000,
      "rowLimit": 10000
     },
     "inputWidgets": {},
     "nuid": "bff5f0e9-f455-457d-b81d-fc774eb16e6d",
     "showTitle": false,
     "tableResultSettingsMap": {},
     "title": ""
    }
   },
   "outputs": [],
   "source": [
    "from pyspark.sql.functions import col, sum, avg, count, round, date_format\n",
    "\n",
    "# Caminhos\n",
    "silver_base = \"/Volumes/workspace/default/ifood-files/silver/delivery_center_enriched\"\n",
    "gold_base = \"/Volumes/workspace/default/ifood-files/gold/kpis\"\n",
    "\n",
    "# Leitura Silver\n",
    "df_silver = spark.read.format(\"delta\").load(silver_base)\n",
    "df_silver = df_silver.withColumn(\"order_month\", date_format(\"order_purchase_timestamp\", \"yyyy-MM\"))\n",
    "\n",
    "# 1. Receita total por mês\n",
    "revenue_by_month = df_silver.groupBy(\"order_month\") \\\n",
    "    .agg(round(sum(\"payment_amount\"), 2).alias(\"total_revenue\")) \\\n",
    "    .orderBy(\"order_month\")\n",
    "\n",
    "display(revenue_by_month)  # Visualização\n",
    "revenue_by_month.write.format(\"delta\").option(\"mergeSchema\", \"true\").mode(\"overwrite\").save(f\"{gold_base}/revenue_by_month\")\n",
    "\n",
    "# 2. Número de pedidos por canal\n",
    "orders_by_channel = df_silver.groupBy(\"channel_type\") \\\n",
    "    .agg(count(\"order_id\").alias(\"total_orders\")) \\\n",
    "    .orderBy(\"total_orders\", ascending=False)\n",
    "\n",
    "display(orders_by_channel)  # Visualização\n",
    "orders_by_channel.write.format(\"delta\").option(\"mergeSchema\", \"true\").mode(\"overwrite\").save(f\"{gold_base}/orders_by_channel\")\n",
    "\n",
    "# 3. Ticket médio por loja\n",
    "avg_ticket_per_store = df_silver.groupBy(\"store_id\", \"store_name\") \\\n",
    "    .agg(round(avg(\"payment_amount\"), 2).alias(\"avg_ticket\")) \\\n",
    "    .orderBy(\"avg_ticket\", ascending=False)\n",
    "\n",
    "display(avg_ticket_per_store)  # Visualização\n",
    "avg_ticket_per_store.write.format(\"delta\").option(\"mergeSchema\", \"true\").mode(\"overwrite\").save(f\"{gold_base}/avg_ticket_per_store\")\n",
    "\n",
    "# 4. Distância média de entrega\n",
    "avg_delivery_distance = df_silver.select(\"delivery_distance_meters\") \\\n",
    "    .agg(round(avg(\"delivery_distance_meters\"), 2).alias(\"avg_delivery_distance\"))\n",
    "\n",
    "display(avg_delivery_distance)  # Visualização\n",
    "avg_delivery_distance.write.format(\"delta\").option(\"mergeSchema\", \"true\").mode(\"overwrite\").save(f\"{gold_base}/avg_delivery_distance\")\n",
    "\n",
    "# 5. Total de pedidos por cidade (hub_city)\n",
    "orders_by_city = df_silver.groupBy(\"hub_city\") \\\n",
    "    .agg(count(\"order_id\").alias(\"total_orders\")) \\\n",
    "    .orderBy(\"total_orders\", ascending=False)\n",
    "\n",
    "display(orders_by_city)  # Visualização\n",
    "orders_by_city.write.format(\"delta\").option(\"mergeSchema\", \"true\").mode(\"overwrite\").save(f\"{gold_base}/orders_by_city\")\n",
    "\n",
    "# 6. Entregas por motorista (driver_id e driver_type)\n",
    "deliveries_by_driver = df_silver.groupBy(\"driver_id\", \"driver_type\") \\\n",
    "    .agg(count(\"delivery_id\").alias(\"total_deliveries\")) \\\n",
    "    .orderBy(\"total_deliveries\", ascending=False)\n",
    "\n",
    "display(deliveries_by_driver)  # Visualização\n",
    "deliveries_by_driver.write.format(\"delta\").option(\"mergeSchema\", \"true\").mode(\"overwrite\").save(f\"{gold_base}/deliveries_by_driver\")\n"
   ]
  }
 ],
 "metadata": {
  "application/vnd.databricks.v1+notebook": {
   "computePreferences": null,
   "dashboards": [],
   "environmentMetadata": {
    "base_environment": "",
    "environment_version": "2"
   },
   "inputWidgetPreferences": null,
   "language": "python",
   "notebookMetadata": {
    "pythonIndentUnit": 4
   },
   "notebookName": "04. Analytics Bussiness",
   "widgets": {}
  },
  "language_info": {
   "name": "python"
  }
 },
 "nbformat": 4,
 "nbformat_minor": 0
}
