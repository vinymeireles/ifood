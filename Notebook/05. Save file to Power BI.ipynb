{
 "cells": [
  {
   "cell_type": "code",
   "execution_count": 0,
   "metadata": {
    "application/vnd.databricks.v1+cell": {
     "cellMetadata": {
      "byteLimit": 2048000,
      "rowLimit": 10000
     },
     "inputWidgets": {},
     "nuid": "b711a15a-a384-4b0d-b861-f98247f42754",
     "showTitle": false,
     "tableResultSettingsMap": {},
     "title": ""
    }
   },
   "outputs": [],
   "source": [
    "/Volumes/workspace/default/ifood-files/gold_parquet/kpis/avg_ticket_per_store/from pyspark.sql import SparkSession\n",
    "\n",
    "# Caminhos da camada Gold\n",
    "gold_base_delta = \"/Volumes/workspace/default/ifood-files/gold/kpis\"\n",
    "gold_base_parquet = \"/Volumes/workspace/default/ifood-files/gold_parquet/kpis\"  # Corrigir aqui\n",
    "\n",
    "tabelas_gold = [\n",
    "    \"revenue_by_month\",\n",
    "    \"orders_by_channel\",\n",
    "    \"avg_ticket_per_store\",\n",
    "    \"avg_delivery_distance\",\n",
    "    \"orders_by_city\",\n",
    "    \"deliveries_by_driver\"\n",
    "]\n",
    "\n",
    "for tabela in tabelas_gold:\n",
    "    print(f\"Convertendo {tabela} para Parquet...\")\n",
    "    df = spark.read.format(\"delta\").load(f\"{gold_base_delta}/{tabela}\")\n",
    "    \n",
    "    df.coalesce(1).write.format(\"parquet\") \\\n",
    "        .mode(\"overwrite\") \\\n",
    "        .save(f\"{gold_base_parquet}/{tabela}\")\n",
    "\n",
    "print(\"✅ Conversão concluída.\")\n"
   ]
  },
  {
   "cell_type": "code",
   "execution_count": 0,
   "metadata": {
    "application/vnd.databricks.v1+cell": {
     "cellMetadata": {
      "byteLimit": 2048000,
      "rowLimit": 10000
     },
     "inputWidgets": {},
     "nuid": "e903cc96-3427-4129-9114-02bba77f8f33",
     "showTitle": false,
     "tableResultSettingsMap": {},
     "title": ""
    }
   },
   "outputs": [],
   "source": [
    "import shutil\n",
    "import os\n",
    "\n",
    "# Caminhos\n",
    "gold_base_parquet = \"/Volumes/workspace/default/ifood-files/gold_parquet/kpis\"\n",
    "dbfs_export_path = \"/Volumes/workspace/default/ifood-files/gold_parquet/parquet_exports\"\n",
    "\n",
    "# Tabelas da camada Gold\n",
    "tabelas_gold = [\n",
    "    \"revenue_by_month\",\n",
    "    \"orders_by_channel\",\n",
    "    \"avg_ticket_per_store\",\n",
    "    \"avg_delivery_distance\",\n",
    "    \"orders_by_city\",\n",
    "    \"deliveries_by_driver\"\n",
    "]\n",
    "\n",
    "# Criar diretório se não existir\n",
    "os.makedirs(dbfs_export_path, exist_ok=True)\n",
    "\n",
    "# Copiar os arquivos Parquet para uma pasta acessível\n",
    "for tabela in tabelas_gold:\n",
    "    print(f\"📤 Exportando {tabela}...\")\n",
    "\n",
    "    # Caminho original no volume\n",
    "    parquet_folder = f\"{gold_base_parquet}/{tabela}\"\n",
    "    files = os.listdir(parquet_folder)\n",
    "\n",
    "    # Encontrar o arquivo parquet\n",
    "    parquet_file = next((f for f in files if f.endswith(\".parquet\")), None)\n",
    "    if parquet_file:\n",
    "        origem = f\"{parquet_folder}/{parquet_file}\"\n",
    "        destino = f\"{dbfs_export_path}/{tabela}.parquet\"\n",
    "        shutil.copy(origem, destino)\n",
    "        print(f\"✅ Copiado para: {destino}\")\n",
    "    else:\n",
    "        print(f\"⚠️ Nenhum arquivo .parquet encontrado para {tabela}.\")\n",
    "\n",
    "print(\"\\n📎 Acesse os arquivos em:\")\n",
    "print(\"https://community.cloud.databricks.com/files/tmp/parquet_exports/\")\n"
   ]
  },
  {
   "cell_type": "markdown",
   "metadata": {
    "application/vnd.databricks.v1+cell": {
     "cellMetadata": {},
     "inputWidgets": {},
     "nuid": "8e887d0d-b83a-4321-b275-62c104f13500",
     "showTitle": false,
     "tableResultSettingsMap": {},
     "title": ""
    }
   },
   "source": [
    "Perguntas do negócio?\n",
    "\n",
    "1) Receita total por mês\n",
    "2) Número de pedidos por canal\n",
    "3) Ticket médio por loja\n",
    "4) Distância média de entrega\n",
    "5) Total de pedidos por cidade\n",
    "6) Entregas por motorista"
   ]
  },
  {
   "cell_type": "code",
   "execution_count": 0,
   "metadata": {
    "application/vnd.databricks.v1+cell": {
     "cellMetadata": {
      "byteLimit": 2048000,
      "rowLimit": 10000
     },
     "inputWidgets": {},
     "nuid": "49b40820-f951-4021-b291-47e76a099230",
     "showTitle": false,
     "tableResultSettingsMap": {},
     "title": ""
    }
   },
   "outputs": [],
   "source": [
    "# Lendo os arquivos parket\n",
    "# Receita total por mês\n",
    "receita_mensal = spark.read.parquet(\"/Volumes/workspace/default/ifood-files/gold_parquet/parquet_exports/revenue_by_month.parquet\")\n",
    "display(receita_mensal)\n",
    "\n"
   ]
  },
  {
   "cell_type": "code",
   "execution_count": 0,
   "metadata": {
    "application/vnd.databricks.v1+cell": {
     "cellMetadata": {
      "byteLimit": 2048000,
      "rowLimit": 10000
     },
     "inputWidgets": {},
     "nuid": "bffd5937-d573-4ae6-974e-d3e50756746d",
     "showTitle": false,
     "tableResultSettingsMap": {},
     "title": ""
    }
   },
   "outputs": [],
   "source": [
    "pedidos_canal=pd.read_parquet(\"/Volumes/workspace/default/ifood-files/gold_parquet/parquet_exports/orders_by_channel.parquet\")\n",
    "display(pedidos_canal)"
   ]
  },
  {
   "cell_type": "code",
   "execution_count": 0,
   "metadata": {
    "application/vnd.databricks.v1+cell": {
     "cellMetadata": {
      "byteLimit": 2048000,
      "rowLimit": 10000
     },
     "inputWidgets": {},
     "nuid": "ae0570e9-d55e-4da5-b04d-e3bf4b5f347f",
     "showTitle": false,
     "tableResultSettingsMap": {},
     "title": ""
    }
   },
   "outputs": [],
   "source": [
    "ticket_loja = spark.read.parquet(\"/Volumes/workspace/default/ifood-files/gold_parquet/parquet_exports/avg_ticket_per_store.parquet\")\n",
    "display(ticket_loja)"
   ]
  },
  {
   "cell_type": "code",
   "execution_count": 0,
   "metadata": {
    "application/vnd.databricks.v1+cell": {
     "cellMetadata": {
      "byteLimit": 2048000,
      "rowLimit": 10000
     },
     "inputWidgets": {},
     "nuid": "f5687369-531d-4eed-9e5b-97d9bf4e699b",
     "showTitle": false,
     "tableResultSettingsMap": {},
     "title": ""
    }
   },
   "outputs": [],
   "source": [
    "distancia_entrega = spark.read.parquet(\"/Volumes/workspace/default/ifood-files/gold_parquet/parquet_exports/avg_delivery_distance.parquet\")\n",
    "display(distancia_entrega)\n"
   ]
  },
  {
   "cell_type": "code",
   "execution_count": 0,
   "metadata": {
    "application/vnd.databricks.v1+cell": {
     "cellMetadata": {
      "byteLimit": 2048000,
      "rowLimit": 10000
     },
     "inputWidgets": {},
     "nuid": "93c0b1c5-1b39-43fd-a8b6-2178555ada15",
     "showTitle": false,
     "tableResultSettingsMap": {},
     "title": ""
    }
   },
   "outputs": [],
   "source": [
    "total_pedidos = spark.read.parquet(\"/Volumes/workspace/default/ifood-files/gold_parquet/parquet_exports/orders_by_city.parquet\")\n",
    "display(total_pedidos)"
   ]
  },
  {
   "cell_type": "code",
   "execution_count": 0,
   "metadata": {
    "application/vnd.databricks.v1+cell": {
     "cellMetadata": {
      "byteLimit": 2048000,
      "rowLimit": 10000
     },
     "inputWidgets": {},
     "nuid": "775a0557-c29f-4f02-ac43-a279c2f3aef1",
     "showTitle": false,
     "tableResultSettingsMap": {},
     "title": ""
    }
   },
   "outputs": [],
   "source": [
    "entregas_motorista = spark.read.parquet(\"/Volumes/workspace/default/ifood-files/gold_parquet/parquet_exports/deliveries_by_driver.parquet\")\n",
    "display(entregas_motorista)"
   ]
  },
  {
   "cell_type": "code",
   "execution_count": 0,
   "metadata": {
    "application/vnd.databricks.v1+cell": {
     "cellMetadata": {
      "byteLimit": 2048000,
      "rowLimit": 10000
     },
     "inputWidgets": {},
     "nuid": "1666c1ee-3694-4a1a-b4f5-6441911a6a3b",
     "showTitle": false,
     "tableResultSettingsMap": {},
     "title": ""
    }
   },
   "outputs": [],
   "source": [
    "import pandas as pd\n",
    "#Importando os scripts dos arquivos local para o Power BI\n",
    "\n",
    "# Receita por mensal\n",
    "df_receita_mensal = pd.read_parquet(\"D:\\Vinicius Meireles\\Desktop\\Projeto Engenharia de Dados Ifood\\files_parket\\revenue_by_month.parquet\")\n",
    "\n",
    "# Numero de pedidos por canal\n",
    "df_pedidos_canal = pd.read_parquet(\"D:\\Vinicius Meireles\\Desktop\\Projeto Engenharia\\files_parket\\orders_by_channel.parquet\")\n",
    "\n",
    "# Ticket médio por loja\n",
    "df_ticket_loja = pd.read_parquet(\"D:\\Vinicius Meireles\\Desktop\\Projeto Engenharia\\files_parket\\avg_ticket_per_store.parquet\")\n",
    "\n",
    "# Distância Média de entrega\n",
    "df_distancia_entrega = pd.read_parquet(\"D:\\Vinicius Meireles\\Desktop\\Projeto Engenharia\\files_parket\\avg_delivery_distance.parquet\")\n",
    "\n",
    "# Total de pedidos por cidade\n",
    "df_pedidos_cidade = pd.read_parquet(\"D:\\Vinicius Meireles\\Desktop\\Projeto Engenharia\\files_parket\\orders_by_city.parquet\")\n",
    "\n",
    "#Entregas por motorista\n",
    "df_entregas_motorista = pd.read_parquet(\"D:\\Vinicius Meireles\\Desktop\\Projeto Engenharia\\files_parket\\deliveries_by_driver.parquet\")\n"
   ]
  }
 ],
 "metadata": {
  "application/vnd.databricks.v1+notebook": {
   "computePreferences": null,
   "dashboards": [],
   "environmentMetadata": {
    "base_environment": "",
    "environment_version": "2"
   },
   "inputWidgetPreferences": null,
   "language": "python",
   "notebookMetadata": {
    "pythonIndentUnit": 4
   },
   "notebookName": "05. Save file to Power BI",
   "widgets": {}
  },
  "language_info": {
   "name": "python"
  }
 },
 "nbformat": 4,
 "nbformat_minor": 0
}
